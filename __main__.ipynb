{
 "cells": [
  {
   "cell_type": "code",
   "execution_count": 1,
   "id": "9e0a055b",
   "metadata": {
    "scrolled": true
   },
   "outputs": [],
   "source": [
    "##Importação das bibliotecas necessárias\n",
    "import requests\n",
    "from bs4 import BeautifulSoup as bs\n",
    "import pandas as pd\n",
    "import unicodedata\n",
    "from ipynb.fs.full.scrapper_functions import get_player_info, generate_csv, create_folder  ## necessário pip install ipynb"
   ]
  },
  {
   "cell_type": "code",
   "execution_count": 2,
   "id": "73b4433b",
   "metadata": {},
   "outputs": [],
   "source": [
    "#Criação das variáveis que controlarão o looping do webscrapper - Ano início e final desejados\n",
    "ano_inicio = 2015\n",
    "ano_fim = 2022"
   ]
  },
  {
   "cell_type": "code",
   "execution_count": null,
   "id": "c656c7b1",
   "metadata": {
    "scrolled": false
   },
   "outputs": [
    {
     "name": "stdout",
     "output_type": "stream",
     "text": [
      "Excel gerado com sucesso no caminho informado\n",
      "Excel gerado com sucesso no caminho informado\n",
      "Excel gerado com sucesso no caminho informado\n",
      "Excel gerado com sucesso no caminho informado\n",
      "Excel gerado com sucesso no caminho informado\n",
      "Excel gerado com sucesso no caminho informado\n",
      "Excel gerado com sucesso no caminho informado\n",
      "Excel gerado com sucesso no caminho informado\n",
      "Excel gerado com sucesso no caminho informado\n",
      "Excel gerado com sucesso no caminho informado\n",
      "Excel gerado com sucesso no caminho informado\n",
      "Excel gerado com sucesso no caminho informado\n",
      "Excel gerado com sucesso no caminho informado\n",
      "Excel gerado com sucesso no caminho informado\n",
      "Excel gerado com sucesso no caminho informado\n",
      "Excel gerado com sucesso no caminho informado\n",
      "Excel gerado com sucesso no caminho informado\n"
     ]
    }
   ],
   "source": [
    "# Criação das variáveis URL p/ consumo e header p/ configuração do request\n",
    "url_league = 'https://www.transfermarkt.com/campeonato-brasileiro-serie-a/startseite/wettbewerb/BRA1/plus/?saison_id='\n",
    "url_time_baseline = 'https://www.transfermarkt.com'\n",
    "headers = {'User-Agent': 'Custom5'}\n",
    "filepath = r\"C:/Users/Public\"\n",
    "\n",
    "root_folder_name = \"TransferMarketData\"\n",
    "semi_path = create_folder(filepath, root_folder_name)\n",
    "\n",
    "#Loop p/ recuperar as Urls anuais de cada uma das equipes da Premier League\n",
    "for year in year_list:\n",
    "    url_ano = url_league + str(year)\n",
    "    full_path = create_folder(semi_path, str(year))\n",
    "    \n",
    "#Gera o request\n",
    "    response = requests.get(url_ano, headers = headers)\n",
    "#Utiliza a biblioteca BeautifulSoup para formatar o HTLM obtido como resposta\n",
    "    soup = bs(response.text,'html.parser')\n",
    "#Com a beautifulSoup, identifica os elementos de Classe necessários para captura das URL's\n",
    "    responsive_data = soup.find('div',{'class':'responsive-table'})\n",
    "    responsive_inside_data = responsive_data.find_all('td',{'class': 'zentriert no-border-rechts'})\n",
    " \n",
    "\n",
    "#Gera uma lista com as Url's do respectivo ano para cada equipe\n",
    "    lista_urls_times = []\n",
    "    for i in range(len(responsive_inside_data)):\n",
    "           lista_urls_times.append(str(responsive_inside_data[i]).split('a href=\"')[1].split('\" title=')[0])\n",
    "#A partir da lista de URL's, realiza a consulta de cada, obtendo os valores dos Jogadores\n",
    "    for semi_url in (lista_urls_times):\n",
    "        full_url = url_time_baseline + semi_url\n",
    "        dataset = get_player_info(full_url)\n",
    "        generate_csv(dataset[0],full_path,str(dataset[1].split(\" -\")[0]),str(year))\n",
    "    "
   ]
  },
  {
   "cell_type": "code",
   "execution_count": null,
   "id": "9e71da6b",
   "metadata": {},
   "outputs": [],
   "source": []
  }
 ],
 "metadata": {
  "kernelspec": {
   "display_name": "Python 3 (ipykernel)",
   "language": "python",
   "name": "python3"
  },
  "language_info": {
   "codemirror_mode": {
    "name": "ipython",
    "version": 3
   },
   "file_extension": ".py",
   "mimetype": "text/x-python",
   "name": "python",
   "nbconvert_exporter": "python",
   "pygments_lexer": "ipython3",
   "version": "3.9.7"
  }
 },
 "nbformat": 4,
 "nbformat_minor": 5
}
